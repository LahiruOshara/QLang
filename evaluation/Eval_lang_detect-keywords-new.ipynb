{
 "cells": [
  {
   "cell_type": "code",
   "execution_count": 1,
   "metadata": {},
   "outputs": [],
   "source": [
    "from langdetect import detect\n",
    "import pandas as pd\n",
    "from sklearn.metrics import accuracy_score\n",
    "from sklearn.feature_extraction.text import CountVectorizer\n",
    "from sklearn.feature_extraction.text import TfidfTransformer\n",
    "import datetime"
   ]
  },
  {
   "cell_type": "code",
   "execution_count": 2,
   "metadata": {},
   "outputs": [],
   "source": [
    "#Function for sorting tf_idf in descending order\n",
    "from scipy.sparse import coo_matrix\n",
    "def sort_coo(coo_matrix):\n",
    "    tuples = zip(coo_matrix.col, coo_matrix.data)\n",
    "    return sorted(tuples, key=lambda x: (x[1], x[0]), reverse=True)\n",
    " \n",
    "def extract_topn_from_vector(feature_names, sorted_items, topn=10):\n",
    "    \"\"\"get the feature names and tf-idf score of top n items\"\"\"\n",
    "    \n",
    "    #use only topn items from vector\n",
    "    sorted_items = sorted_items[:topn]\n",
    " \n",
    "    score_vals = []\n",
    "    feature_vals = []\n",
    "    \n",
    "    # word index and corresponding tf-idf score\n",
    "    for idx, score in sorted_items:\n",
    "        \n",
    "        #keep track of feature name and its corresponding score\n",
    "        score_vals.append(round(score, 3))\n",
    "        feature_vals.append(feature_names[idx])\n",
    " \n",
    "    #create a tuples of feature,score\n",
    "    #results = zip(feature_vals,score_vals)\n",
    "    results= {}\n",
    "    for idx in range(len(feature_vals)):\n",
    "        results[feature_vals[idx]]=score_vals[idx]\n",
    "    \n",
    "    return results"
   ]
  },
  {
   "cell_type": "code",
   "execution_count": 3,
   "metadata": {},
   "outputs": [],
   "source": [
    "def ExtractKeyWords(text):\n",
    "    #generate tf-idf for the given text\n",
    "    tf_idf_vector=tfidf_transformer.transform(text)\n",
    "    \n",
    "    \n",
    "    #sort the tf-idf vectors by descending order of scores\n",
    "    sorted_items=sort_coo(tf_idf_vector.tocoo())\n",
    "    #extract only the top n; n here is 3\n",
    "    keywords=extract_topn_from_vector(feature_names,sorted_items,3)\n",
    " \n",
    "    # now print the results\n",
    "    sentence = \"\"\n",
    "    for k in keywords:\n",
    "        sentence+=(\" \"+k)\n",
    "    return sentence"
   ]
  },
  {
   "cell_type": "code",
   "execution_count": 4,
   "metadata": {},
   "outputs": [],
   "source": [
    "l = [\"../data/qald-3-test.csv\",\"../data/qald-4-test.csv\",\"../data/qald-5-test.csv\",\"../data/qald-6-test.csv\",\"../data/qald-7-test.csv\",\"../data/qald-8-test.csv\"]\n",
    "times=[]\n",
    "scores=[]\n",
    "\n",
    "for d in l:\n",
    "    df_test = pd.read_csv(d)\n",
    "    df_test=df_test.dropna(subset=['questions'])\n",
    "    vectorizer = CountVectorizer()\n",
    "    X_train = vectorizer.fit_transform(df_test['questions'])\n",
    "    tfidf_transformer=TfidfTransformer(smooth_idf=True,use_idf=True)\n",
    "    X = tfidf_transformer.fit_transform(X_train)\n",
    "    # get feature names\n",
    "    feature_names=vectorizer.get_feature_names()\n",
    "    new_set = []\n",
    "    for text in X:\n",
    "        new_set.append(ExtractKeyWords(text))\n",
    "    f_prediction = []\n",
    "\n",
    "    a = datetime.datetime.now()\n",
    "    for sentence in new_set:\n",
    "        f_prediction.append(detect(sentence))\n",
    "    b = datetime.datetime.now()\n",
    "    c = b-a\n",
    "    times.append(c/len(f_prediction))\n",
    "    scores.append(accuracy_score(df_test['lang'], f_prediction))\n"
   ]
  },
  {
   "cell_type": "code",
   "execution_count": 5,
   "metadata": {},
   "outputs": [
    {
     "data": {
      "text/plain": [
       "[0.7188552188552189,\n",
       " 0.8057142857142857,\n",
       " 0.7574850299401198,\n",
       " 0.75625,\n",
       " 0.7674418604651163,\n",
       " 0.6097560975609756]"
      ]
     },
     "execution_count": 5,
     "metadata": {},
     "output_type": "execute_result"
    }
   ],
   "source": [
    "scores"
   ]
  },
  {
   "cell_type": "code",
   "execution_count": 6,
   "metadata": {},
   "outputs": [
    {
     "data": {
      "text/plain": [
       "[datetime.timedelta(microseconds=8562),\n",
       " datetime.timedelta(microseconds=7352),\n",
       " datetime.timedelta(microseconds=7645),\n",
       " datetime.timedelta(microseconds=7282),\n",
       " datetime.timedelta(microseconds=8192),\n",
       " datetime.timedelta(microseconds=9649)]"
      ]
     },
     "execution_count": 6,
     "metadata": {},
     "output_type": "execute_result"
    }
   ],
   "source": [
    "times"
   ]
  },
  {
   "cell_type": "code",
   "execution_count": null,
   "metadata": {},
   "outputs": [],
   "source": []
  },
  {
   "cell_type": "code",
   "execution_count": 7,
   "metadata": {},
   "outputs": [],
   "source": [
    "# total times spent and accuracy and rows\n",
    "# q3 0.7188552188552189\n",
    "# q4 0.8057142857142857\n",
    "# q5 0.7365269461077845\n",
    "# q6 0.7625\n",
    "# q7 0.7674418604651163\n",
    "# q8 0.5853658536585366"
   ]
  },
  {
   "cell_type": "code",
   "execution_count": 8,
   "metadata": {},
   "outputs": [
    {
     "data": {
      "text/plain": [
       "0.6097560975609756"
      ]
     },
     "execution_count": 8,
     "metadata": {},
     "output_type": "execute_result"
    }
   ],
   "source": [
    "accuracy_score(df_test['lang'], f_prediction)"
   ]
  },
  {
   "cell_type": "code",
   "execution_count": 9,
   "metadata": {},
   "outputs": [],
   "source": [
    "# # Create a dataset by keywords\n",
    "# output = pd.DataFrame({'questions': new_set, 'lang': df['lang']})\n",
    "# output.to_csv('keyword.csv', index=False)"
   ]
  },
  {
   "cell_type": "code",
   "execution_count": 10,
   "metadata": {},
   "outputs": [],
   "source": [
    "# out = []\n",
    "# for w in new_set:\n",
    "#     out.append(w+'\\n\\n')\n",
    "\n",
    "# with open(\"key_word_test.txt\",\"w\") as f:\n",
    "#     f.write(\"\".join(out))"
   ]
  }
 ],
 "metadata": {
  "kernelspec": {
   "display_name": "Python 3",
   "language": "python",
   "name": "python3"
  },
  "language_info": {
   "codemirror_mode": {
    "name": "ipython",
    "version": 3
   },
   "file_extension": ".py",
   "mimetype": "text/x-python",
   "name": "python",
   "nbconvert_exporter": "python",
   "pygments_lexer": "ipython3",
   "version": "3.7.7"
  },
  "pycharm": {
   "stem_cell": {
    "cell_type": "raw",
    "metadata": {
     "collapsed": false
    },
    "source": []
   }
  }
 },
 "nbformat": 4,
 "nbformat_minor": 4
}
